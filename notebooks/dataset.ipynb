{
 "cells": [
  {
   "cell_type": "code",
   "execution_count": 2,
   "metadata": {},
   "outputs": [],
   "source": [
    "import os\n",
    "import pandas as pd\n",
    "from PIL import Image\n",
    "\n",
    "from torch.utils.data import Dataset\n",
    "\n",
    "class MedicDataset(Dataset):\n",
    "    def __init__(self, dir_name: str, transform) -> None:\n",
    "        super().__init__()"
   ]
  },
  {
   "cell_type": "code",
   "execution_count": 3,
   "metadata": {},
   "outputs": [
    {
     "data": {
      "text/plain": [
       "'/Users/danielsyahputra/Documents/Kuliah/Projects/medic/notebooks'"
      ]
     },
     "execution_count": 3,
     "metadata": {},
     "output_type": "execute_result"
    }
   ],
   "source": [
    "os.getcwd()"
   ]
  },
  {
   "cell_type": "code",
   "execution_count": 4,
   "metadata": {},
   "outputs": [
    {
     "data": {
      "text/html": [
       "<div>\n",
       "<style scoped>\n",
       "    .dataframe tbody tr th:only-of-type {\n",
       "        vertical-align: middle;\n",
       "    }\n",
       "\n",
       "    .dataframe tbody tr th {\n",
       "        vertical-align: top;\n",
       "    }\n",
       "\n",
       "    .dataframe thead th {\n",
       "        text-align: right;\n",
       "    }\n",
       "</style>\n",
       "<table border=\"1\" class=\"dataframe\">\n",
       "  <thead>\n",
       "    <tr style=\"text-align: right;\">\n",
       "      <th></th>\n",
       "      <th>image_id</th>\n",
       "      <th>event_name</th>\n",
       "      <th>image_path</th>\n",
       "      <th>damage_severity</th>\n",
       "      <th>informative</th>\n",
       "      <th>humanitarian</th>\n",
       "      <th>disaster_types</th>\n",
       "    </tr>\n",
       "  </thead>\n",
       "  <tbody>\n",
       "    <tr>\n",
       "      <th>0</th>\n",
       "      <td>ASONAM2017</td>\n",
       "      <td>ecuador_eq_severe_im_645.jpg</td>\n",
       "      <td>data/ASONAM17_Damage_Image_Dataset/ecuador_eq/...</td>\n",
       "      <td>severe</td>\n",
       "      <td>informative</td>\n",
       "      <td>infrastructure_and_utility_damage</td>\n",
       "      <td>earthquake</td>\n",
       "    </tr>\n",
       "    <tr>\n",
       "      <th>1</th>\n",
       "      <td>ASONAM2017</td>\n",
       "      <td>ecuador_eq_severe_im_1378.jpg</td>\n",
       "      <td>data/ASONAM17_Damage_Image_Dataset/ecuador_eq/...</td>\n",
       "      <td>severe</td>\n",
       "      <td>informative</td>\n",
       "      <td>infrastructure_and_utility_damage</td>\n",
       "      <td>earthquake</td>\n",
       "    </tr>\n",
       "    <tr>\n",
       "      <th>2</th>\n",
       "      <td>ASONAM2017</td>\n",
       "      <td>ecuador_eq_unlabelled_im_100.jpg</td>\n",
       "      <td>data/ASONAM17_Damage_Image_Dataset/ecuador_eq/...</td>\n",
       "      <td>little_or_none</td>\n",
       "      <td>not_informative</td>\n",
       "      <td>not_humanitarian</td>\n",
       "      <td>earthquake</td>\n",
       "    </tr>\n",
       "    <tr>\n",
       "      <th>3</th>\n",
       "      <td>ASONAM2017</td>\n",
       "      <td>ecuador_eq_mild_im_2573.jpg</td>\n",
       "      <td>data/ASONAM17_Damage_Image_Dataset/ecuador_eq/...</td>\n",
       "      <td>mild</td>\n",
       "      <td>informative</td>\n",
       "      <td>affected_injured_or_dead_people</td>\n",
       "      <td>earthquake</td>\n",
       "    </tr>\n",
       "    <tr>\n",
       "      <th>4</th>\n",
       "      <td>ASONAM2017</td>\n",
       "      <td>ecuador_eq_unlabelled_im_828.jpg</td>\n",
       "      <td>data/ASONAM17_Damage_Image_Dataset/ecuador_eq/...</td>\n",
       "      <td>little_or_none</td>\n",
       "      <td>informative</td>\n",
       "      <td>rescue_volunteering_or_donation_effort</td>\n",
       "      <td>earthquake</td>\n",
       "    </tr>\n",
       "  </tbody>\n",
       "</table>\n",
       "</div>"
      ],
      "text/plain": [
       "     image_id                        event_name  \\\n",
       "0  ASONAM2017      ecuador_eq_severe_im_645.jpg   \n",
       "1  ASONAM2017     ecuador_eq_severe_im_1378.jpg   \n",
       "2  ASONAM2017  ecuador_eq_unlabelled_im_100.jpg   \n",
       "3  ASONAM2017       ecuador_eq_mild_im_2573.jpg   \n",
       "4  ASONAM2017  ecuador_eq_unlabelled_im_828.jpg   \n",
       "\n",
       "                                          image_path damage_severity  \\\n",
       "0  data/ASONAM17_Damage_Image_Dataset/ecuador_eq/...          severe   \n",
       "1  data/ASONAM17_Damage_Image_Dataset/ecuador_eq/...          severe   \n",
       "2  data/ASONAM17_Damage_Image_Dataset/ecuador_eq/...  little_or_none   \n",
       "3  data/ASONAM17_Damage_Image_Dataset/ecuador_eq/...            mild   \n",
       "4  data/ASONAM17_Damage_Image_Dataset/ecuador_eq/...  little_or_none   \n",
       "\n",
       "       informative                            humanitarian disaster_types  \n",
       "0      informative       infrastructure_and_utility_damage     earthquake  \n",
       "1      informative       infrastructure_and_utility_damage     earthquake  \n",
       "2  not_informative                        not_humanitarian     earthquake  \n",
       "3      informative         affected_injured_or_dead_people     earthquake  \n",
       "4      informative  rescue_volunteering_or_donation_effort     earthquake  "
      ]
     },
     "execution_count": 4,
     "metadata": {},
     "output_type": "execute_result"
    }
   ],
   "source": [
    "train = pd.read_csv(\"../data_dir/MEDIC/MEDIC_train.tsv\", sep=\"\\t\")\n",
    "train.head()"
   ]
  },
  {
   "cell_type": "code",
   "execution_count": 5,
   "metadata": {},
   "outputs": [
    {
     "data": {
      "text/plain": [
       "little_or_none    28314\n",
       "severe            17135\n",
       "mild               3904\n",
       "Name: damage_severity, dtype: int64"
      ]
     },
     "execution_count": 5,
     "metadata": {},
     "output_type": "execute_result"
    }
   ],
   "source": [
    "train[\"damage_severity\"].value_counts()"
   ]
  },
  {
   "cell_type": "code",
   "execution_count": 6,
   "metadata": {},
   "outputs": [
    {
     "data": {
      "text/plain": [
       "informative        28073\n",
       "not_informative    21280\n",
       "Name: informative, dtype: int64"
      ]
     },
     "execution_count": 6,
     "metadata": {},
     "output_type": "execute_result"
    }
   ],
   "source": [
    "train[\"informative\"].value_counts()"
   ]
  },
  {
   "cell_type": "code",
   "execution_count": 7,
   "metadata": {},
   "outputs": [
    {
     "data": {
      "text/plain": [
       "not_humanitarian                          24427\n",
       "infrastructure_and_utility_damage         18994\n",
       "affected_injured_or_dead_people            3662\n",
       "rescue_volunteering_or_donation_effort     2270\n",
       "Name: humanitarian, dtype: int64"
      ]
     },
     "execution_count": 7,
     "metadata": {},
     "output_type": "execute_result"
    }
   ],
   "source": [
    "train[\"humanitarian\"].value_counts()"
   ]
  },
  {
   "cell_type": "code",
   "execution_count": 8,
   "metadata": {},
   "outputs": [
    {
     "data": {
      "text/plain": [
       "not_disaster      24459\n",
       "earthquake        12296\n",
       "hurricane          4517\n",
       "flood              3401\n",
       "other_disaster     1819\n",
       "fire               1796\n",
       "landslide          1065\n",
       "Name: disaster_types, dtype: int64"
      ]
     },
     "execution_count": 8,
     "metadata": {},
     "output_type": "execute_result"
    }
   ],
   "source": [
    "train[\"disaster_types\"].value_counts()"
   ]
  }
 ],
 "metadata": {
  "kernelspec": {
   "display_name": "Python 3.8.13 ('comp_vision')",
   "language": "python",
   "name": "python3"
  },
  "language_info": {
   "codemirror_mode": {
    "name": "ipython",
    "version": 3
   },
   "file_extension": ".py",
   "mimetype": "text/x-python",
   "name": "python",
   "nbconvert_exporter": "python",
   "pygments_lexer": "ipython3",
   "version": "3.8.13"
  },
  "orig_nbformat": 4,
  "vscode": {
   "interpreter": {
    "hash": "23848fa1f6b4ad70ab84bc0e703ece0b76ba6d95220a80b90d7bbfd73bed156d"
   }
  }
 },
 "nbformat": 4,
 "nbformat_minor": 2
}
